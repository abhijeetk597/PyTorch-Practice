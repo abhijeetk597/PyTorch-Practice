{
  "nbformat": 4,
  "nbformat_minor": 0,
  "metadata": {
    "colab": {
      "provenance": [],
      "gpuType": "T4",
      "authorship_tag": "ABX9TyOZSPZOfQ2DdmHz4+usH/W/",
      "include_colab_link": true
    },
    "kernelspec": {
      "name": "python3",
      "display_name": "Python 3"
    },
    "language_info": {
      "name": "python"
    },
    "accelerator": "GPU"
  },
  "cells": [
    {
      "cell_type": "markdown",
      "metadata": {
        "id": "view-in-github",
        "colab_type": "text"
      },
      "source": [
        "<a href=\"https://colab.research.google.com/github/abhijeetk597/PyTorch-Practice/blob/main/01_neural_bag_of_words.ipynb\" target=\"_parent\"><img src=\"https://colab.research.google.com/assets/colab-badge.svg\" alt=\"Open In Colab\"/></a>"
      ]
    },
    {
      "cell_type": "markdown",
      "source": [
        "# Sentiment Analysis of IMDB movie reviews\n",
        "\n",
        "In this project we'll be building a machine learning model to perform sentiment analysis where the task is to detect if a given sentence is positive or negative -- using `PyTorch` and `torchtext`. The dataset used will be movie reviews from the IMDB Dataset, which we'll obtain using `datasets` library\n",
        "\n",
        "## Introduction\n",
        "\n",
        "In this notebook, we'll start very simple with one of the most basic models for NLP: a NBoW (neural bag-of-words) model (also known as continuous bag-of-words, CBoW). The NBoW model are a strong, commonly used, baseline model for NLP tasks. They should be first models you implement when performing sentiment analysis/text classification.\n",
        "\n",
        "## Preparing Data\n",
        "\n",
        "Before we can implement our NBoW model, we first have to perform quite a few steps to get our data ready to use. NLP usually requires quite a lot of data wrangling beforehand, though libraries such as `datasets` and `torchtext` handle most of this for us.\n",
        "\n",
        "The steps to take are:\n",
        "- importing modules\n",
        "- Loading data\n",
        "- tokenizing data\n",
        "- creating data splits\n",
        "- creating a vocabulary\n",
        "- numericalizing data\n",
        "- creating the data loaders"
      ],
      "metadata": {
        "id": "cSRRCNtIcrlj"
      }
    },
    {
      "cell_type": "markdown",
      "source": [
        "## Importing necessary libraries"
      ],
      "metadata": {
        "id": "5tNbXiRjfQic"
      }
    },
    {
      "cell_type": "code",
      "source": [
        "!pip install -q datasets"
      ],
      "metadata": {
        "id": "gtFvNKrZf1Qu"
      },
      "execution_count": 1,
      "outputs": []
    },
    {
      "cell_type": "code",
      "source": [
        "import collections\n",
        "\n",
        "import datasets\n",
        "import torch\n",
        "import torch.nn as nn\n",
        "import torch.optim as optim\n",
        "import torchtext\n",
        "import tqdm\n",
        "\n",
        "import matplotlib.pyplot as plt\n",
        "import numpy as np\n",
        "\n",
        "# set random seed\n",
        "seed = 42\n",
        "\n",
        "np.random.seed(seed)\n",
        "torch.manual_seed(seed)\n",
        "torch.cuda.manual_seed(seed)\n",
        "torch.backends.cudnn.deterministic = True"
      ],
      "metadata": {
        "id": "CviFZMKqfgJ1"
      },
      "execution_count": 2,
      "outputs": []
    },
    {
      "cell_type": "markdown",
      "source": [
        "## Loading the data\n",
        "\n",
        "We'll load our dataset using the `datasets` library. The first argument is the name of the dataset and the `split` argument chooses which splits of the data we want.\n",
        "\n",
        "How do we know that we have to use \"imdb\" for the IMDb dataset and that there's an \"unsupervised\" split? The datasets library has a great website used to browse the available datasets, see: https://huggingface.co/datasets/. By navigating to the IMDb dataset page we can see more information specifically about the IMDb dataset.\n",
        "\n",
        "The output received when loading the dataset tells us that it is using a locally cached version instead of downloading the dataset from online."
      ],
      "metadata": {
        "id": "Kynp8G5mgYnX"
      }
    },
    {
      "cell_type": "code",
      "source": [
        "# import train data and test data from imdb dataset\n",
        "train_data, test_data = datasets.load_dataset(\"imdb\", split=[\"train\", \"test\"])\n",
        "\n",
        "train_data, test_data"
      ],
      "metadata": {
        "colab": {
          "base_uri": "https://localhost:8080/"
        },
        "id": "XVAGvbCmhMpM",
        "outputId": "9503045b-f35c-435e-cca4-031d4e2f24e1"
      },
      "execution_count": 3,
      "outputs": [
        {
          "output_type": "stream",
          "name": "stderr",
          "text": [
            "/usr/local/lib/python3.10/dist-packages/huggingface_hub/utils/_token.py:88: UserWarning: \n",
            "The secret `HF_TOKEN` does not exist in your Colab secrets.\n",
            "To authenticate with the Hugging Face Hub, create a token in your settings tab (https://huggingface.co/settings/tokens), set it as secret in your Google Colab and restart your session.\n",
            "You will be able to reuse this secret in all of your notebooks.\n",
            "Please note that authentication is recommended but still optional to access public models or datasets.\n",
            "  warnings.warn(\n"
          ]
        },
        {
          "output_type": "execute_result",
          "data": {
            "text/plain": [
              "(Dataset({\n",
              "     features: ['text', 'label'],\n",
              "     num_rows: 25000\n",
              " }),\n",
              " Dataset({\n",
              "     features: ['text', 'label'],\n",
              "     num_rows: 25000\n",
              " }))"
            ]
          },
          "metadata": {},
          "execution_count": 3
        }
      ]
    },
    {
      "cell_type": "markdown",
      "source": [
        "We can check the `features` attribute of a split to get more informationo about the features."
      ],
      "metadata": {
        "id": "Z873wMQPhf0O"
      }
    },
    {
      "cell_type": "code",
      "source": [
        "train_data.features"
      ],
      "metadata": {
        "colab": {
          "base_uri": "https://localhost:8080/"
        },
        "id": "QYgq7hSZiBpi",
        "outputId": "eb2baeca-659e-486e-bd46-b532fb3d25ae"
      },
      "execution_count": 4,
      "outputs": [
        {
          "output_type": "execute_result",
          "data": {
            "text/plain": [
              "{'text': Value(dtype='string', id=None),\n",
              " 'label': ClassLabel(names=['neg', 'pos'], id=None)}"
            ]
          },
          "metadata": {},
          "execution_count": 4
        }
      ]
    },
    {
      "cell_type": "markdown",
      "source": [
        "We can see that `text` is a value of `dtype=string` in other words, it's a sting and theat `label` is a `ClassLabel`. A ClassLabel means the feature is an integer representation of which class the example belongs to. `num_classes=2` means that our labels are one of the two values 0 or 1 and `names=['neg', 'pos']` gives us the human readable versions of those values. Thus, a label of 0 means the example is a negative review and a label of 1 means the example is a positive review."
      ],
      "metadata": {
        "id": "tVGtKzlfiD7Z"
      }
    },
    {
      "cell_type": "markdown",
      "source": [
        "Let's check random instance of our train data."
      ],
      "metadata": {
        "id": "TlGGv6hoi1lS"
      }
    },
    {
      "cell_type": "code",
      "source": [
        "import random\n",
        "\n",
        "train_data[random.choice(range(len(train_data)))]"
      ],
      "metadata": {
        "colab": {
          "base_uri": "https://localhost:8080/"
        },
        "id": "dIOh0c8QjDCj",
        "outputId": "4947a669-f9e3-45ef-8c53-bab0ba48b7a2"
      },
      "execution_count": 5,
      "outputs": [
        {
          "output_type": "execute_result",
          "data": {
            "text/plain": [
              "{'text': 'When I first saw a small scene of it in some announcements, I thought the show would be entertaining to watch. The little robot guy does look kinda cute. The style of animation does look sort of familiar to some classic shows. Before the show aired, I studied it through some sources. There, I did became slightly dismayed. The three children (Tommy, Gus and Lola) are voiced appropriately but Robotboy is an exception. It would have been a lot nicer if he were to be portrayed by a young lad. One good example is Robot Jones, a robot character from \"Whatever Happened To Robot Jones?\" The show isn\\'t bad really. But the way Robotboy is inappropriately portrayed is my only criticism. Thus, I don\\'t watch it much.',\n",
              " 'label': 0}"
            ]
          },
          "metadata": {},
          "execution_count": 5
        }
      ]
    },
    {
      "cell_type": "markdown",
      "source": [
        "We can notice the presence of escape charactes `\\` and html tags `<br>` in our data"
      ],
      "metadata": {
        "id": "loiQJeG-jt0j"
      }
    },
    {
      "cell_type": "markdown",
      "source": [
        "### Tokenization\n",
        "\n",
        "There are many types of tokenizers available, but we're going to use a relatively simple one provided by `torchtext` called the `basic_english`."
      ],
      "metadata": {
        "id": "I0Zr1SmzjddI"
      }
    },
    {
      "cell_type": "code",
      "source": [
        "tokenizer = torchtext.data.utils.get_tokenizer(\"basic_english\")"
      ],
      "metadata": {
        "id": "eTCaRGyBkow0"
      },
      "execution_count": 6,
      "outputs": []
    },
    {
      "cell_type": "markdown",
      "source": [
        "`basic_english` tokenizer creates a token by splitting the word on spaces, separating punctuation into its own token and also lowercasing every word.\n",
        "\n",
        "The `get_tokenizer` function also supports other tokenizers, such as ones provided by **SpaCy** and **nltk**."
      ],
      "metadata": {
        "id": "09EC8nxplFi_"
      }
    },
    {
      "cell_type": "code",
      "source": [
        "tokenizer(\"Hello world! How are you doing today? I'm doing fantastic!\")"
      ],
      "metadata": {
        "colab": {
          "base_uri": "https://localhost:8080/"
        },
        "id": "BAG-JJeXlfup",
        "outputId": "153a47f1-6b51-4f04-d15a-aa78a003162c"
      },
      "execution_count": 7,
      "outputs": [
        {
          "output_type": "execute_result",
          "data": {
            "text/plain": [
              "['hello',\n",
              " 'world',\n",
              " '!',\n",
              " 'how',\n",
              " 'are',\n",
              " 'you',\n",
              " 'doing',\n",
              " 'today',\n",
              " '?',\n",
              " 'i',\n",
              " \"'\",\n",
              " 'm',\n",
              " 'doing',\n",
              " 'fantastic',\n",
              " '!']"
            ]
          },
          "metadata": {},
          "execution_count": 7
        }
      ]
    },
    {
      "cell_type": "markdown",
      "source": [
        "To tokenize our whole data, we will create a tokenize function and map it to the dataset."
      ],
      "metadata": {
        "id": "VtIef2ZJlrUb"
      }
    },
    {
      "cell_type": "code",
      "source": [
        "def tokenize_example(example, tokenizer, max_length):\n",
        "  tokens = tokenizer(example[\"text\"])[:max_length]\n",
        "  return {\"tokens\": tokens}\n",
        "\n",
        "max_length = 256\n",
        "\n",
        "train_data = train_data.map(\n",
        "    tokenize_example, fn_kwargs={\"tokenizer\": tokenizer, \"max_length\": max_length}\n",
        "    )\n",
        "\n",
        "test_data = test_data.map(\n",
        "    tokenize_example, fn_kwargs={\"tokenizer\": tokenizer, \"max_length\": max_length}\n",
        "    )"
      ],
      "metadata": {
        "id": "EaAgve-6mR2N"
      },
      "execution_count": 8,
      "outputs": []
    },
    {
      "cell_type": "code",
      "source": [
        "train_data"
      ],
      "metadata": {
        "colab": {
          "base_uri": "https://localhost:8080/"
        },
        "id": "pko_o7epoPl8",
        "outputId": "815cf648-93dd-4689-f3de-99254cb8db10"
      },
      "execution_count": 9,
      "outputs": [
        {
          "output_type": "execute_result",
          "data": {
            "text/plain": [
              "Dataset({\n",
              "    features: ['text', 'label', 'tokens'],\n",
              "    num_rows: 25000\n",
              "})"
            ]
          },
          "metadata": {},
          "execution_count": 9
        }
      ]
    },
    {
      "cell_type": "code",
      "source": [
        "train_data.features"
      ],
      "metadata": {
        "colab": {
          "base_uri": "https://localhost:8080/"
        },
        "id": "JvS-thkEoZp8",
        "outputId": "e44baef7-734f-419b-d946-5d0690080741"
      },
      "execution_count": 10,
      "outputs": [
        {
          "output_type": "execute_result",
          "data": {
            "text/plain": [
              "{'text': Value(dtype='string', id=None),\n",
              " 'label': ClassLabel(names=['neg', 'pos'], id=None),\n",
              " 'tokens': Sequence(feature=Value(dtype='string', id=None), length=-1, id=None)}"
            ]
          },
          "metadata": {},
          "execution_count": 10
        }
      ]
    },
    {
      "cell_type": "markdown",
      "source": [
        "- We can now see that our `train_data` has a `tokens` feature.\n",
        "- By looking at the `features` attribute we can see it has automatically added the information about the tokens feature -- each is a sequence (a list) of strings. A length=-1 means that all of our token sequences are not the same length."
      ],
      "metadata": {
        "id": "A8S9XxHzoeft"
      }
    },
    {
      "cell_type": "code",
      "source": [
        "# Check the result of our tokenization\n",
        "train_data[0][\"tokens\"][:25]"
      ],
      "metadata": {
        "colab": {
          "base_uri": "https://localhost:8080/"
        },
        "id": "qX0LZjH4pANi",
        "outputId": "86cf27d7-e35b-4ac4-fdcb-959c93cbc37d"
      },
      "execution_count": 11,
      "outputs": [
        {
          "output_type": "execute_result",
          "data": {
            "text/plain": [
              "['i',\n",
              " 'rented',\n",
              " 'i',\n",
              " 'am',\n",
              " 'curious-yellow',\n",
              " 'from',\n",
              " 'my',\n",
              " 'video',\n",
              " 'store',\n",
              " 'because',\n",
              " 'of',\n",
              " 'all',\n",
              " 'the',\n",
              " 'controversy',\n",
              " 'that',\n",
              " 'surrounded',\n",
              " 'it',\n",
              " 'when',\n",
              " 'it',\n",
              " 'was',\n",
              " 'first',\n",
              " 'released',\n",
              " 'in',\n",
              " '1967',\n",
              " '.']"
            ]
          },
          "metadata": {},
          "execution_count": 11
        }
      ]
    },
    {
      "cell_type": "markdown",
      "source": [
        "### Creating a validation dataset"
      ],
      "metadata": {
        "id": "aIiVcwBepLSg"
      }
    },
    {
      "cell_type": "code",
      "source": [
        "val_size = 0.25\n",
        "\n",
        "train_valid_data = train_data.train_test_split(test_size=val_size)\n",
        "train_data = train_valid_data[\"train\"]\n",
        "valid_data = train_valid_data[\"test\"]\n",
        "\n",
        "len(train_data), len(valid_data), len(test_data)"
      ],
      "metadata": {
        "colab": {
          "base_uri": "https://localhost:8080/"
        },
        "id": "WRf4woF-pv01",
        "outputId": "5d3d782f-0d58-4516-ca43-29a318cd8190"
      },
      "execution_count": 12,
      "outputs": [
        {
          "output_type": "execute_result",
          "data": {
            "text/plain": [
              "(18750, 6250, 25000)"
            ]
          },
          "metadata": {},
          "execution_count": 12
        }
      ]
    },
    {
      "cell_type": "markdown",
      "source": [
        "### Creating a vocabulary\n",
        "\n",
        "Next, we have to build a vocabulary. This is look-up table where every unique token in your dataset has a corresponding *index*.\n",
        "\n",
        "One issue with creating a vocabulary using every single word in the dataset is that there are usually a considerable amount of unique tokens. One way to combat this is to either only construct the vocabulary only using the most commonly appearing tokens, or to only use tokens which appear a minimum amount of times the dataset. In this notebook, we do the latterr, keeping on tokens which appear at least 5 times.\n",
        "\n",
        "What happens to tokens which appear less than 5 times? We replace them with a special unknown token, denoted by `<unk>`.\n",
        "\n",
        "We use the `build_vocab_from_iterator` function from `torchtext.vocab` to create our vocabulary, specifying the `min_freq` and `special_tokens`.\n",
        "\n",
        "The first special token is our unkown token, the other, `<pad>` is a special token we'll use for padding sentences."
      ],
      "metadata": {
        "id": "PhIk0kWKqKyE"
      }
    },
    {
      "cell_type": "code",
      "source": [
        "min_freq = 5\n",
        "special_tokens = [\"<unk>\", \"<pad>\"]\n",
        "\n",
        "vocab = torchtext.vocab.build_vocab_from_iterator(\n",
        "    train_data[\"tokens\"],\n",
        "    min_freq=min_freq,\n",
        "    specials=special_tokens\n",
        ")"
      ],
      "metadata": {
        "id": "GYVZihnwqqxm"
      },
      "execution_count": 13,
      "outputs": []
    },
    {
      "cell_type": "code",
      "source": [
        "# check length of the vocabulary\n",
        "len(vocab)"
      ],
      "metadata": {
        "colab": {
          "base_uri": "https://localhost:8080/"
        },
        "id": "Zl_2Z8QdzXFZ",
        "outputId": "a3852591-1226-4e4e-e19b-bce02b017eb0"
      },
      "execution_count": 14,
      "outputs": [
        {
          "output_type": "execute_result",
          "data": {
            "text/plain": [
              "21528"
            ]
          },
          "metadata": {},
          "execution_count": 14
        }
      ]
    },
    {
      "cell_type": "code",
      "source": [
        "# get 10 most frequent tokens\n",
        "vocab.get_itos()[:10]"
      ],
      "metadata": {
        "colab": {
          "base_uri": "https://localhost:8080/"
        },
        "id": "y_jc3eBZzbmB",
        "outputId": "01796cd4-ad13-4153-a863-407e7ec34848"
      },
      "execution_count": 15,
      "outputs": [
        {
          "output_type": "execute_result",
          "data": {
            "text/plain": [
              "['<unk>', '<pad>', 'the', '.', ',', 'a', 'and', 'of', 'to', \"'\"]"
            ]
          },
          "metadata": {},
          "execution_count": 15
        }
      ]
    },
    {
      "cell_type": "markdown",
      "source": [
        "We can get the index of a token by accessing it like a dictionary"
      ],
      "metadata": {
        "id": "6JOKlRw_zphb"
      }
    },
    {
      "cell_type": "code",
      "source": [
        "vocab[\"and\"]"
      ],
      "metadata": {
        "colab": {
          "base_uri": "https://localhost:8080/"
        },
        "id": "-hKl4WjPz411",
        "outputId": "2d14ecb5-8d0b-4af7-abb8-62cadbd6a405"
      },
      "execution_count": 16,
      "outputs": [
        {
          "output_type": "execute_result",
          "data": {
            "text/plain": [
              "6"
            ]
          },
          "metadata": {},
          "execution_count": 16
        }
      ]
    },
    {
      "cell_type": "markdown",
      "source": [
        "We store the indices of the unknown and padding tokens (zero and one, respectively) in variables, as we'll use these further on in this notebook."
      ],
      "metadata": {
        "id": "YfnHjHbfz6Q5"
      }
    },
    {
      "cell_type": "code",
      "source": [
        "unk_index = vocab[\"<unk>\"]\n",
        "pad_index = vocab[\"<pad>\"]"
      ],
      "metadata": {
        "id": "SzLByEN30HnA"
      },
      "execution_count": 17,
      "outputs": []
    },
    {
      "cell_type": "markdown",
      "source": [
        "We can check if a token is in our vocabulary using the `in` operator"
      ],
      "metadata": {
        "id": "eP004dEm0N3b"
      }
    },
    {
      "cell_type": "code",
      "source": [
        "\"some_token\" in vocab, \"best\" in vocab, \"enjoyed\" in vocab"
      ],
      "metadata": {
        "colab": {
          "base_uri": "https://localhost:8080/"
        },
        "id": "qELe7t_I0Zzw",
        "outputId": "e245c4e1-722c-47f3-831f-f49856226db5"
      },
      "execution_count": 18,
      "outputs": [
        {
          "output_type": "execute_result",
          "data": {
            "text/plain": [
              "(False, True, True)"
            ]
          },
          "metadata": {},
          "execution_count": 18
        }
      ]
    },
    {
      "cell_type": "markdown",
      "source": [
        "By default, a vocabulary created by `torchtext` will throw an error if you attempt to obtain the index of a token which is not in the vocabulary ie. `vocab[\"some_token\"]` will throw an error.\n",
        "\n",
        "We need to explicitly tell the vocabulary which token to return if we pass a token not in the vocabulary. We do this using `set_default_index` method, passing in the index we wish it to return. Here, we pass the index of the unknown token."
      ],
      "metadata": {
        "id": "VXbpW7Sl0gCj"
      }
    },
    {
      "cell_type": "code",
      "source": [
        "vocab.set_default_index(unk_index)\n",
        "\n",
        "vocab[\"some_token\"]"
      ],
      "metadata": {
        "colab": {
          "base_uri": "https://localhost:8080/"
        },
        "id": "Gnezm_Qt1SJO",
        "outputId": "de449004-0578-45ab-9692-e0efb221ffcc"
      },
      "execution_count": 19,
      "outputs": [
        {
          "output_type": "execute_result",
          "data": {
            "text/plain": [
              "0"
            ]
          },
          "metadata": {},
          "execution_count": 19
        }
      ]
    },
    {
      "cell_type": "markdown",
      "source": [
        "To look-up a list of tokens, we can use the vocabulary's `lookup_indices` method."
      ],
      "metadata": {
        "id": "ASP0NFL81ciB"
      }
    },
    {
      "cell_type": "code",
      "source": [
        "vocab.lookup_indices([\"hello\", \"world\", \"some_token\", \"<pad>\"])"
      ],
      "metadata": {
        "colab": {
          "base_uri": "https://localhost:8080/"
        },
        "id": "CPkCLr6j1nt0",
        "outputId": "0dd848f3-7d15-49e4-b461-1521c5285bac"
      },
      "execution_count": 20,
      "outputs": [
        {
          "output_type": "execute_result",
          "data": {
            "text/plain": [
              "[4602, 186, 0, 1]"
            ]
          },
          "metadata": {},
          "execution_count": 20
        }
      ]
    },
    {
      "cell_type": "markdown",
      "source": [
        "### Numericalizing data\n",
        "\n",
        "Now we have our vocabulary, we can numericalize our data. This involves converting the tokens within our dataset into indices. Similar to how we tokenized our data using the `Dataset.map` method, we'll define a function that takes an example and our vocabulary, gets the index for each token in each example and then creates and `ids` field which contains the numericalized tokens."
      ],
      "metadata": {
        "id": "_Mk6h8231vW-"
      }
    },
    {
      "cell_type": "code",
      "source": [
        "def numericalize_example(example, vocab):\n",
        "  ids = vocab.lookup_indices(example[\"tokens\"])\n",
        "  return {\"ids\": ids}\n",
        "\n",
        "# map this function to our train, val and test data\n",
        "train_data = train_data.map(numericalize_example, fn_kwargs={\"vocab\": vocab})\n",
        "valid_data = valid_data.map(numericalize_example, fn_kwargs={\"vocab\": vocab})\n",
        "test_data = test_data.map(numericalize_example, fn_kwargs={\"vocab\": vocab})"
      ],
      "metadata": {
        "id": "nVx5RXmG2SGy"
      },
      "execution_count": 21,
      "outputs": []
    },
    {
      "cell_type": "code",
      "source": [
        "print(\"----Tokens:----\")\n",
        "print(train_data[2][\"tokens\"][:10])\n",
        "print(\"\\n----Lookup indices:----\")\n",
        "print(vocab.lookup_indices(train_data[2][\"tokens\"][:10]))\n",
        "print(\"\\n----ids:----\")\n",
        "print(train_data[2][\"ids\"][:10])"
      ],
      "metadata": {
        "colab": {
          "base_uri": "https://localhost:8080/"
        },
        "id": "n1-v0YwZ2d-N",
        "outputId": "348d2d61-f03e-4451-de0f-a49f9c6ae973"
      },
      "execution_count": 22,
      "outputs": [
        {
          "output_type": "stream",
          "name": "stdout",
          "text": [
            "----Tokens:----\n",
            "['i', 'don', \"'\", 't', 'know', 'why', 'some', 'people', 'criticise', 'that']\n",
            "\n",
            "----Lookup indices:----\n",
            "[12, 90, 9, 28, 130, 142, 55, 83, 12619, 15]\n",
            "\n",
            "----ids:----\n",
            "[12, 90, 9, 28, 130, 142, 55, 83, 12619, 15]\n"
          ]
        }
      ]
    },
    {
      "cell_type": "markdown",
      "source": [
        "The final step of numericalizing is transforming the `ids` and `label` from integers into `PyTorch` tensors, which we do using the `with_format` method."
      ],
      "metadata": {
        "id": "2vhBvA1W4Z0K"
      }
    },
    {
      "cell_type": "code",
      "source": [
        "train_data = train_data.with_format(type=\"torch\", columns=[\"ids\", \"label\"])\n",
        "valid_data = valid_data.with_format(type=\"torch\", columns=[\"ids\", \"label\"])\n",
        "test_data = test_data.with_format(type=\"torch\", columns=[\"ids\", \"label\"])\n",
        "\n",
        "train_data[0][\"label\"], train_data[0][\"ids\"][:10]"
      ],
      "metadata": {
        "colab": {
          "base_uri": "https://localhost:8080/"
        },
        "id": "jyDMPwY_410z",
        "outputId": "570b3737-9728-4f76-8cc0-9bc3d5c7b4d7"
      },
      "execution_count": 23,
      "outputs": [
        {
          "output_type": "execute_result",
          "data": {
            "text/plain": [
              "(tensor(1),\n",
              " tensor([  54,   10,   43, 6009,   47,  124,   57,   36,   83,  324]))"
            ]
          },
          "metadata": {},
          "execution_count": 23
        }
      ]
    },
    {
      "cell_type": "markdown",
      "source": [
        "One thing to note that when using `with_format`, all the columns not specified (\"tokens\" and \"text\") are removed from the example."
      ],
      "metadata": {
        "id": "mYyIxIdN5TCL"
      }
    },
    {
      "cell_type": "code",
      "source": [
        "train_data[0].keys()"
      ],
      "metadata": {
        "colab": {
          "base_uri": "https://localhost:8080/"
        },
        "id": "YG2vndA45vYp",
        "outputId": "f532703a-89bf-459b-85db-e684133df07e"
      },
      "execution_count": 24,
      "outputs": [
        {
          "output_type": "execute_result",
          "data": {
            "text/plain": [
              "dict_keys(['label', 'ids'])"
            ]
          },
          "metadata": {},
          "execution_count": 24
        }
      ]
    },
    {
      "cell_type": "markdown",
      "source": [
        "Removing the \"tokens\" field is fine, as if we wanted to retrieve the human-readable tokens again we can simply convert the tensor into a Python list of integers and then use the vocabulary's `lookup_tokens` method."
      ],
      "metadata": {
        "id": "clLbGfX66AfE"
      }
    },
    {
      "cell_type": "code",
      "source": [
        "vocab.lookup_tokens(train_data[0][\"ids\"][:10].tolist())"
      ],
      "metadata": {
        "colab": {
          "base_uri": "https://localhost:8080/"
        },
        "id": "2zg6k2Lf6dXL",
        "outputId": "b0579570-b7b9-4fa6-dad2-82755aab225b"
      },
      "execution_count": 25,
      "outputs": [
        {
          "output_type": "execute_result",
          "data": {
            "text/plain": [
              "['what', 'is', 'so', 'taboo', 'about', 'love', '?', '!', 'people', 'seem']"
            ]
          },
          "metadata": {},
          "execution_count": 25
        }
      ]
    },
    {
      "cell_type": "markdown",
      "source": [
        "## Creating Data Loaders\n",
        "\n",
        "The final step of preparing the data is creating the data loaders. We can iterate over a data loader to retrive batches of examples. This is also where we will perform any padding that is necessary.\n",
        "\n",
        "We first need to define a function to *collate* batch, consisting of a list of examples, into what we want our data loader to output.\n",
        "\n",
        "Here, our desired output from the data loader is a dictionary with keys of \"ids\" and \"label\".\n",
        "\n",
        "The value of `batch[\"ids\"]` should be a tensor of shape [batch size, length], where length is the length of the longest sentence (in terms of tokens) within the batch, and all sentences shorter than this should be padded to that length.\n",
        "\n",
        "The values of `batch[\"label\"]` should be a tensor of shape `[batch_size]` consisting of the label for each sentence in the batch.\n",
        "\n",
        "We define a function, `get_collate_fn`, which is passed the pad token index and returns the actual collate function. Within the actual collate function, `collate_fn`, we get a list of \"ids\" tensors for each example in the batch, and then use the `pad_sequence` function, which converts the list of tensors into the desired `[batch_size, length]` shaped tensor and performs padding using the specified `pad_index`. By default, `pad_sequence` will return a `[length, batch_size]` shaped tensor, but by setting `batch_first`=True, these two dimensions are switched. We get a list of \"label\" tensors and convert the list of tensors into a single `[batch_size]` shaped tensor."
      ],
      "metadata": {
        "id": "nBjOqxmy6ihP"
      }
    },
    {
      "cell_type": "code",
      "source": [
        "def get_collate_fn(pad_index):\n",
        "  def collate_fn(batch):\n",
        "    batch_ids = [i[\"ids\"] for i in batch]\n",
        "    batch_ids = nn.utils.rnn.pad_sequence(\n",
        "        batch_ids, padding_value=pad_index, batch_first=True\n",
        "    )\n",
        "    batch_label = [i[\"label\"] for i in batch]\n",
        "    batch_label = torch.stack(batch_label)\n",
        "    batch = {\"ids\": batch_ids, \"label\": batch_label}\n",
        "    return batch\n",
        "\n",
        "  return collate_fn"
      ],
      "metadata": {
        "id": "LKA-JIYL-AjP"
      },
      "execution_count": 26,
      "outputs": []
    },
    {
      "cell_type": "markdown",
      "source": [
        "Now, we define a function which returns our actual data loader. It takes in a dataset, desired batch size (the number of sentences we want in a batch), our padding token index, and if the dataset should be shuffled."
      ],
      "metadata": {
        "id": "psqj8t5x_fMm"
      }
    },
    {
      "cell_type": "code",
      "source": [
        "def get_data_loader(dataset, batch_size, pad_index, shuffle=False):\n",
        "  collate_fn = get_collate_fn(pad_index)\n",
        "  data_loader = torch.utils.data.DataLoader(\n",
        "      dataset=dataset,\n",
        "      batch_size=batch_size,\n",
        "      collate_fn=collate_fn,\n",
        "      shuffle=shuffle\n",
        "  )\n",
        "  return data_loader"
      ],
      "metadata": {
        "id": "zIE_nwZx_wJB"
      },
      "execution_count": 27,
      "outputs": []
    },
    {
      "cell_type": "markdown",
      "source": [
        "Finally, we get the data loaders for the training, validation and test data.\n",
        "\n",
        "We set the batch size equal to 512. Our batch size should be set as high as we can, as larger batches means more parallel computaion, less compute time, and thus faster training and evaluation.\n",
        "\n",
        "Only the training data loader needs to be shuffled, as it's the only one used to actually tune the parameters within the model."
      ],
      "metadata": {
        "id": "FkWZUqhmBTGi"
      }
    },
    {
      "cell_type": "code",
      "source": [
        "batch_size = 512\n",
        "\n",
        "train_data_loader = get_data_loader(train_data, batch_size, pad_index, shuffle=True)\n",
        "valid_data_loader = get_data_loader(valid_data, batch_size, pad_index)\n",
        "test_data_loader = get_data_loader(test_data, batch_size, pad_index)"
      ],
      "metadata": {
        "id": "A18DzuPlB0Q3"
      },
      "execution_count": 28,
      "outputs": []
    },
    {
      "cell_type": "code",
      "source": [
        "list(train_data_loader)[0]"
      ],
      "metadata": {
        "colab": {
          "base_uri": "https://localhost:8080/"
        },
        "id": "EcQuBkwBC9fn",
        "outputId": "98b4f52c-aa81-4a1e-fb75-86c0f3875927"
      },
      "execution_count": 29,
      "outputs": [
        {
          "output_type": "execute_result",
          "data": {
            "text/plain": [
              "{'ids': tensor([[   14,   359,    10,  ...,     1,     1,     1],\n",
              "         [    0,    10,    41,  ...,    76,     5,   992],\n",
              "         [   26,    95,   883,  ...,    38,     2,   147],\n",
              "         ...,\n",
              "         [18297,    15,    10,  ...,     1,     1,     1],\n",
              "         [   14,    23,    72,  ...,  2364,    44,     5],\n",
              "         [   52,    26,    74,  ...,     1,     1,     1]]),\n",
              " 'label': tensor([1, 0, 0, 0, 0, 1, 1, 0, 0, 1, 1, 0, 0, 0, 1, 1, 0, 0, 0, 1, 0, 0, 0, 1,\n",
              "         0, 1, 0, 1, 1, 1, 1, 0, 0, 1, 1, 0, 1, 0, 0, 1, 1, 1, 1, 1, 0, 0, 0, 0,\n",
              "         0, 0, 0, 0, 1, 0, 0, 0, 1, 1, 1, 1, 0, 0, 0, 1, 1, 1, 1, 1, 0, 1, 1, 0,\n",
              "         0, 0, 0, 0, 1, 1, 0, 1, 1, 0, 0, 0, 0, 0, 0, 1, 1, 0, 1, 1, 0, 0, 0, 1,\n",
              "         0, 1, 1, 0, 0, 1, 0, 0, 0, 0, 1, 0, 1, 1, 1, 0, 0, 0, 0, 1, 0, 1, 1, 1,\n",
              "         1, 1, 1, 0, 1, 0, 0, 0, 0, 0, 0, 1, 1, 0, 1, 1, 1, 1, 1, 1, 1, 0, 0, 1,\n",
              "         0, 1, 1, 1, 0, 0, 1, 0, 0, 1, 0, 1, 1, 1, 1, 1, 1, 1, 1, 0, 1, 0, 0, 1,\n",
              "         0, 0, 0, 1, 1, 1, 1, 1, 0, 1, 0, 0, 1, 1, 0, 1, 0, 1, 0, 1, 0, 1, 1, 0,\n",
              "         0, 1, 1, 1, 0, 0, 1, 0, 1, 1, 1, 0, 0, 1, 1, 0, 1, 1, 0, 1, 1, 1, 1, 0,\n",
              "         0, 1, 1, 1, 1, 1, 1, 1, 0, 0, 1, 0, 0, 0, 1, 0, 0, 0, 0, 0, 0, 1, 1, 1,\n",
              "         0, 0, 0, 0, 0, 0, 0, 0, 0, 1, 1, 0, 0, 1, 0, 0, 1, 1, 1, 1, 0, 1, 0, 0,\n",
              "         0, 0, 1, 0, 0, 0, 1, 0, 1, 0, 1, 1, 1, 0, 1, 0, 0, 0, 1, 1, 0, 1, 0, 0,\n",
              "         1, 1, 0, 0, 1, 1, 1, 1, 1, 1, 0, 1, 1, 0, 1, 1, 1, 1, 1, 1, 0, 0, 0, 1,\n",
              "         1, 0, 0, 0, 0, 1, 1, 0, 1, 1, 1, 0, 1, 1, 0, 1, 1, 0, 1, 1, 0, 0, 0, 1,\n",
              "         0, 0, 1, 0, 0, 0, 0, 0, 1, 1, 0, 0, 0, 0, 1, 0, 1, 1, 0, 0, 1, 1, 1, 1,\n",
              "         0, 0, 0, 1, 1, 0, 0, 0, 1, 1, 0, 0, 1, 0, 0, 1, 0, 0, 0, 0, 0, 0, 1, 0,\n",
              "         1, 1, 1, 1, 1, 1, 1, 0, 1, 1, 0, 0, 1, 1, 0, 1, 1, 1, 1, 0, 0, 1, 1, 0,\n",
              "         0, 0, 1, 1, 1, 0, 0, 0, 0, 0, 1, 1, 0, 0, 0, 1, 0, 1, 1, 0, 1, 1, 1, 0,\n",
              "         0, 1, 1, 1, 0, 1, 1, 0, 0, 0, 0, 0, 0, 0, 0, 1, 0, 0, 1, 1, 1, 0, 0, 0,\n",
              "         1, 1, 0, 1, 1, 0, 0, 1, 1, 1, 0, 0, 1, 0, 1, 1, 0, 1, 1, 1, 1, 0, 1, 1,\n",
              "         1, 1, 0, 1, 0, 1, 0, 1, 1, 1, 1, 0, 0, 1, 1, 1, 1, 0, 1, 0, 1, 1, 1, 0,\n",
              "         1, 0, 1, 0, 0, 0, 0, 1])}"
            ]
          },
          "metadata": {},
          "execution_count": 29
        }
      ]
    },
    {
      "cell_type": "markdown",
      "source": [
        "## Building the model"
      ],
      "metadata": {
        "id": "gb2zZGSxCHRY"
      }
    },
    {
      "cell_type": "code",
      "source": [
        "class NBoW(nn.Module):\n",
        "  def __init__(self, vocab_size, embedding_dim, output_dim, pad_index):\n",
        "    super().__init__()\n",
        "    self.embedding = nn.Embedding(vocab_size, embedding_dim, padding_idx=pad_index)\n",
        "    self.fc = nn.Linear(embedding_dim, output_dim)\n",
        "\n",
        "  def forward(self, ids):\n",
        "    # embedded = self.embedding(ids)\n",
        "    # pooled = embedded.mean(dim=1)\n",
        "    # prediction = self.fc(pooled)\n",
        "    # return prediction\n",
        "    return self.fc((self.embedding(ids).mean(dim=1)))"
      ],
      "metadata": {
        "id": "k3BfKtlTCZTZ"
      },
      "execution_count": 30,
      "outputs": []
    },
    {
      "cell_type": "code",
      "source": [
        "vocab_size = len(vocab)\n",
        "embedding_dim = 300\n",
        "output_dim = len(train_data.unique(\"label\"))\n",
        "\n",
        "model = NBoW(vocab_size, embedding_dim, output_dim, pad_index)"
      ],
      "metadata": {
        "id": "1W5BjzMKFDhJ"
      },
      "execution_count": 31,
      "outputs": []
    },
    {
      "cell_type": "code",
      "source": [
        "def count_parameters(model):\n",
        "  return sum(p.numel() for p in model.parameters() if p.requires_grad)\n",
        "\n",
        "print(f\"The model has {count_parameters(model): } trainable parameters\")"
      ],
      "metadata": {
        "colab": {
          "base_uri": "https://localhost:8080/"
        },
        "id": "cKD5vyIQFYoM",
        "outputId": "7cf953db-8c0d-45fe-a7be-2836e166d223"
      },
      "execution_count": 32,
      "outputs": [
        {
          "output_type": "stream",
          "name": "stdout",
          "text": [
            "The model has  6459002 trainable parameters\n"
          ]
        }
      ]
    },
    {
      "cell_type": "code",
      "source": [
        "optimizer = optim.Adam(model.parameters())\n",
        "criterion = nn.CrossEntropyLoss()\n",
        "\n",
        "device = torch.device(\"cuda\" if torch.cuda.is_available() else \"cpu\")\n",
        "print(device)\n",
        "\n",
        "model = model.to(device)\n",
        "criterion = criterion.to(device)"
      ],
      "metadata": {
        "colab": {
          "base_uri": "https://localhost:8080/"
        },
        "id": "L-w18wqUFdbD",
        "outputId": "18e81485-87b2-4871-e4b3-1073d58c965a"
      },
      "execution_count": 33,
      "outputs": [
        {
          "output_type": "stream",
          "name": "stdout",
          "text": [
            "cuda\n"
          ]
        }
      ]
    },
    {
      "cell_type": "code",
      "source": [
        "def train(data_loader, model, criterion, optimizer, device):\n",
        "  model.train()\n",
        "  epoch_losses = []\n",
        "  epoch_accs = []\n",
        "  for batch in tqdm.tqdm(data_loader, desc=\"training...\"):\n",
        "    ids = batch[\"ids\"].to(device)\n",
        "    label = batch[\"label\"].to(device)\n",
        "    prediction = model(ids)\n",
        "    loss = criterion(prediction, label)\n",
        "    accuracy = get_accuracy(prediction, label)\n",
        "    optimizer.zero_grad()\n",
        "    loss.backward()\n",
        "    optimizer.step()\n",
        "    epoch_losses.append(loss.item())\n",
        "    epoch_accs.append(accuracy.item())\n",
        "  return np.mean(epoch_losses), np.mean(epoch_accs)\n",
        "\n",
        "def evaluate(data_loader, model, criterion, device):\n",
        "  model.eval()\n",
        "  epoch_losses = []\n",
        "  epoch_accs = []\n",
        "  with torch.no_grad():\n",
        "    for batch in tqdm.tqdm(data_loader, desc=\"evaluating...\"):\n",
        "      ids = batch[\"ids\"].to(device)\n",
        "      label = batch[\"label\"].to(device)\n",
        "      prediction = model(ids)\n",
        "      loss = criterion(prediction, label)\n",
        "      accuracy = get_accuracy(prediction, label)\n",
        "      epoch_losses.append(loss.item())\n",
        "      epoch_accs.append(accuracy.item())\n",
        "  return np.mean(epoch_losses), np.mean(epoch_accs)\n",
        "\n",
        "def get_accuracy(prediction, label):\n",
        "  batch_size, _ = prediction.shape\n",
        "  predicted_classes = prediction.argmax(dim=-1)\n",
        "  correct_predictions = predicted_classes.eq(label).sum()\n",
        "  accuracy = correct_predictions / batch_size\n",
        "  return accuracy"
      ],
      "metadata": {
        "id": "A4S2U8aKGjcs"
      },
      "execution_count": 34,
      "outputs": []
    },
    {
      "cell_type": "code",
      "source": [
        "n_epochs = 10\n",
        "best_valid_loss = float(\"inf\")\n",
        "\n",
        "metrics = collections.defaultdict(list)\n",
        "\n",
        "for epoch in range(n_epochs):\n",
        "  train_loss, train_acc = train(\n",
        "      train_data_loader, model, criterion, optimizer, device\n",
        "  )\n",
        "  valid_loss, valid_acc = evaluate(valid_data_loader, model, criterion, device)\n",
        "  metrics[\"train_losses\"].append(train_loss)\n",
        "  metrics[\"train_accs\"].append(train_acc)\n",
        "  metrics[\"valid_losses\"].append(valid_loss)\n",
        "  metrics[\"valid_accs\"].append(valid_acc)\n",
        "  if valid_loss < best_valid_loss:\n",
        "    best_valid_loss = valid_loss\n",
        "    torch.save(model.state_dict(), \"nbow.pth\")\n",
        "  print(f\"epoch: {epoch}\")\n",
        "  print(f\"train_loss: {train_loss:.3f}, train_acc: {train_acc:.3f}\")\n",
        "  print(f\"valid_loss: {valid_loss:.3f}, valid_acc: {valid_acc:.3f}\")"
      ],
      "metadata": {
        "colab": {
          "base_uri": "https://localhost:8080/"
        },
        "id": "SL-kwS3SK2Th",
        "outputId": "fd376bee-9b78-4118-dadb-cb6e00f9d31e"
      },
      "execution_count": 35,
      "outputs": [
        {
          "output_type": "stream",
          "name": "stderr",
          "text": [
            "training...: 100%|██████████| 37/37 [00:01<00:00, 21.39it/s]\n",
            "evaluating...: 100%|██████████| 13/13 [00:00<00:00, 49.14it/s]\n"
          ]
        },
        {
          "output_type": "stream",
          "name": "stdout",
          "text": [
            "epoch: 0\n",
            "train_loss: 0.678, train_acc: 0.619\n",
            "valid_loss: 0.662, valid_acc: 0.658\n"
          ]
        },
        {
          "output_type": "stream",
          "name": "stderr",
          "text": [
            "training...: 100%|██████████| 37/37 [00:01<00:00, 21.99it/s]\n",
            "evaluating...: 100%|██████████| 13/13 [00:00<00:00, 19.00it/s]\n"
          ]
        },
        {
          "output_type": "stream",
          "name": "stdout",
          "text": [
            "epoch: 1\n",
            "train_loss: 0.643, train_acc: 0.686\n",
            "valid_loss: 0.623, valid_acc: 0.701\n"
          ]
        },
        {
          "output_type": "stream",
          "name": "stderr",
          "text": [
            "training...: 100%|██████████| 37/37 [00:02<00:00, 13.89it/s]\n",
            "evaluating...: 100%|██████████| 13/13 [00:01<00:00,  9.39it/s]\n"
          ]
        },
        {
          "output_type": "stream",
          "name": "stdout",
          "text": [
            "epoch: 2\n",
            "train_loss: 0.594, train_acc: 0.734\n",
            "valid_loss: 0.574, valid_acc: 0.752\n"
          ]
        },
        {
          "output_type": "stream",
          "name": "stderr",
          "text": [
            "training...: 100%|██████████| 37/37 [00:02<00:00, 17.73it/s]\n",
            "evaluating...: 100%|██████████| 13/13 [00:00<00:00, 51.16it/s]\n"
          ]
        },
        {
          "output_type": "stream",
          "name": "stdout",
          "text": [
            "epoch: 3\n",
            "train_loss: 0.536, train_acc: 0.781\n",
            "valid_loss: 0.521, valid_acc: 0.789\n"
          ]
        },
        {
          "output_type": "stream",
          "name": "stderr",
          "text": [
            "training...: 100%|██████████| 37/37 [00:01<00:00, 36.99it/s]\n",
            "evaluating...: 100%|██████████| 13/13 [00:00<00:00, 49.46it/s]\n"
          ]
        },
        {
          "output_type": "stream",
          "name": "stdout",
          "text": [
            "epoch: 4\n",
            "train_loss: 0.478, train_acc: 0.815\n",
            "valid_loss: 0.474, valid_acc: 0.816\n"
          ]
        },
        {
          "output_type": "stream",
          "name": "stderr",
          "text": [
            "training...: 100%|██████████| 37/37 [00:01<00:00, 36.38it/s]\n",
            "evaluating...: 100%|██████████| 13/13 [00:00<00:00, 51.42it/s]\n"
          ]
        },
        {
          "output_type": "stream",
          "name": "stdout",
          "text": [
            "epoch: 5\n",
            "train_loss: 0.427, train_acc: 0.840\n",
            "valid_loss: 0.436, valid_acc: 0.832\n"
          ]
        },
        {
          "output_type": "stream",
          "name": "stderr",
          "text": [
            "training...: 100%|██████████| 37/37 [00:01<00:00, 35.81it/s]\n",
            "evaluating...: 100%|██████████| 13/13 [00:00<00:00, 49.99it/s]\n"
          ]
        },
        {
          "output_type": "stream",
          "name": "stdout",
          "text": [
            "epoch: 6\n",
            "train_loss: 0.384, train_acc: 0.860\n",
            "valid_loss: 0.407, valid_acc: 0.845\n"
          ]
        },
        {
          "output_type": "stream",
          "name": "stderr",
          "text": [
            "training...: 100%|██████████| 37/37 [00:01<00:00, 36.82it/s]\n",
            "evaluating...: 100%|██████████| 13/13 [00:00<00:00, 48.36it/s]\n"
          ]
        },
        {
          "output_type": "stream",
          "name": "stdout",
          "text": [
            "epoch: 7\n",
            "train_loss: 0.348, train_acc: 0.876\n",
            "valid_loss: 0.383, valid_acc: 0.854\n"
          ]
        },
        {
          "output_type": "stream",
          "name": "stderr",
          "text": [
            "training...: 100%|██████████| 37/37 [00:01<00:00, 36.89it/s]\n",
            "evaluating...: 100%|██████████| 13/13 [00:00<00:00, 49.33it/s]\n"
          ]
        },
        {
          "output_type": "stream",
          "name": "stdout",
          "text": [
            "epoch: 8\n",
            "train_loss: 0.318, train_acc: 0.887\n",
            "valid_loss: 0.365, valid_acc: 0.857\n"
          ]
        },
        {
          "output_type": "stream",
          "name": "stderr",
          "text": [
            "training...: 100%|██████████| 37/37 [00:01<00:00, 33.03it/s]\n",
            "evaluating...: 100%|██████████| 13/13 [00:00<00:00, 34.24it/s]\n"
          ]
        },
        {
          "output_type": "stream",
          "name": "stdout",
          "text": [
            "epoch: 9\n",
            "train_loss: 0.293, train_acc: 0.900\n",
            "valid_loss: 0.349, valid_acc: 0.865\n"
          ]
        }
      ]
    },
    {
      "cell_type": "code",
      "source": [
        "fig = plt.figure(figsize=(10, 6))\n",
        "ax = fig.add_subplot(1, 2, 1)\n",
        "ax.plot(metrics[\"train_losses\"], label=\"train loss\")\n",
        "ax.plot(metrics[\"valid_losses\"], label=\"valid loss\")\n",
        "ax.set_xlabel(\"epoch\")\n",
        "ax.set_ylabel(\"loss\")\n",
        "ax.set_xticks(range(n_epochs))\n",
        "ax.legend()\n",
        "ax.grid()\n",
        "ax = fig.add_subplot(1, 2, 2)\n",
        "ax.plot(metrics[\"train_accs\"], label=\"train accuracy\")\n",
        "ax.plot(metrics[\"valid_accs\"], label=\"valid accuracy\")\n",
        "ax.set_xlabel(\"epoch\")\n",
        "ax.set_ylabel(\"accuracy\")\n",
        "ax.set_xticks(range(n_epochs))\n",
        "ax.legend()\n",
        "ax.grid()"
      ],
      "metadata": {
        "colab": {
          "base_uri": "https://localhost:8080/",
          "height": 465
        },
        "id": "derFu8s9MiZU",
        "outputId": "a99f8e99-5832-4ec3-ea68-a8b762a701ee"
      },
      "execution_count": 36,
      "outputs": [
        {
          "output_type": "display_data",
          "data": {
            "text/plain": [
              "<Figure size 1000x600 with 2 Axes>"
            ],
            "image/png": "[encoded data removed]"
          },
          "metadata": {}
        }
      ]
    },
    {
      "cell_type": "code",
      "source": [
        "model.load_state_dict(torch.load(\"nbow.pth\"))\n",
        "\n",
        "test_loss, test_acc = evaluate(test_data_loader, model, criterion, device)"
      ],
      "metadata": {
        "colab": {
          "base_uri": "https://localhost:8080/"
        },
        "id": "q2XJRQ40Rm4-",
        "outputId": "e90602c1-dfff-43cf-b1b3-ca45de3704b1"
      },
      "execution_count": 37,
      "outputs": [
        {
          "output_type": "stream",
          "name": "stderr",
          "text": [
            "evaluating...: 100%|██████████| 49/49 [00:01<00:00, 42.31it/s]\n"
          ]
        }
      ]
    },
    {
      "cell_type": "code",
      "source": [
        "print(f\"test_loss: {test_loss:.3f}, test_acc: {test_acc:.3f}\")"
      ],
      "metadata": {
        "colab": {
          "base_uri": "https://localhost:8080/"
        },
        "id": "dugXj693R9bB",
        "outputId": "924a4aec-6ab6-4b79-8bf3-95522271dfa1"
      },
      "execution_count": 38,
      "outputs": [
        {
          "output_type": "stream",
          "name": "stdout",
          "text": [
            "test_loss: 0.371, test_acc: 0.845\n"
          ]
        }
      ]
    },
    {
      "cell_type": "code",
      "source": [
        "def predict_sentiment(text, model, tokenizer, vocab, device):\n",
        "  tokens = tokenizer(text)\n",
        "  ids = vocab.lookup_indices(tokens)\n",
        "  tensor = torch.LongTensor(ids).unsqueeze(dim=0).to(device)\n",
        "  prediction = model(tensor).squeeze(dim=0)\n",
        "  probability = torch.softmax(prediction, dim=-1)\n",
        "  predicted_class = prediction.argmax(dim=-1).item()\n",
        "  predicted_probability = probability[predicted_class].item()\n",
        "  return predicted_class, predicted_probability"
      ],
      "metadata": {
        "id": "ryp4VszLSG1l"
      },
      "execution_count": 39,
      "outputs": []
    },
    {
      "cell_type": "code",
      "source": [
        "text = \"This is an excellent movie\"\n",
        "predict_sentiment(text, model, tokenizer, vocab, device)"
      ],
      "metadata": {
        "colab": {
          "base_uri": "https://localhost:8080/"
        },
        "id": "mRq65dVjSqgK",
        "outputId": "39fbd2f7-41a4-44ca-92ea-554f18f2c03f"
      },
      "execution_count": 40,
      "outputs": [
        {
          "output_type": "execute_result",
          "data": {
            "text/plain": [
              "(1, 0.9998527765274048)"
            ]
          },
          "metadata": {},
          "execution_count": 40
        }
      ]
    },
    {
      "cell_type": "code",
      "source": [
        "text1 = \"This film is terrible\"\n",
        "predict_sentiment(text1, model, tokenizer, vocab, device)"
      ],
      "metadata": {
        "colab": {
          "base_uri": "https://localhost:8080/"
        },
        "id": "_IH5sOTpSzq9",
        "outputId": "4d5834a7-0f62-4899-c232-c89695dd6130"
      },
      "execution_count": 42,
      "outputs": [
        {
          "output_type": "execute_result",
          "data": {
            "text/plain": [
              "(0, 0.9999998807907104)"
            ]
          },
          "metadata": {},
          "execution_count": 42
        }
      ]
    },
    {
      "cell_type": "code",
      "source": [
        "text2 = \"This film is not terrible, it's great!\"\n",
        "predict_sentiment(text2, model, tokenizer, vocab, device)"
      ],
      "metadata": {
        "colab": {
          "base_uri": "https://localhost:8080/"
        },
        "id": "xGj1YVz4TGaA",
        "outputId": "d83b8743-e6ee-4475-a920-428a1cc0ef81"
      },
      "execution_count": 43,
      "outputs": [
        {
          "output_type": "execute_result",
          "data": {
            "text/plain": [
              "(1, 0.8932341933250427)"
            ]
          },
          "metadata": {},
          "execution_count": 43
        }
      ]
    },
    {
      "cell_type": "code",
      "execution_count": 44,
      "metadata": {
        "id": "e3d55c92",
        "outputId": "c01dd145-4aae-4845-bfe5-68ab16e320de",
        "colab": {
          "base_uri": "https://localhost:8080/"
        }
      },
      "outputs": [
        {
          "output_type": "execute_result",
          "data": {
            "text/plain": [
              "(1, 0.8932343125343323)"
            ]
          },
          "metadata": {},
          "execution_count": 44
        }
      ],
      "source": [
        "text3 = \"This film is not great, it's terrible!\"\n",
        "\n",
        "predict_sentiment(text3, model, tokenizer, vocab, device)"
      ]
    }
  ]
}